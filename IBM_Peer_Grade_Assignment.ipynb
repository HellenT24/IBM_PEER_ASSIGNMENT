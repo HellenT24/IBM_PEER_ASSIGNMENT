{
 "cells": [
  {
   "cell_type": "markdown",
   "id": "25d7b7c1",
   "metadata": {},
   "source": [
    "# My Jupyter Notebook on IBM Watson Studio"
   ]
  },
  {
   "cell_type": "markdown",
   "id": "dd074e72",
   "metadata": {},
   "source": [
    "**Name: TOLULOPE MARY ADETOLA**\n",
    "\n",
    "current occupation: Student at Univeristy of Bradford, Bradford, UK."
   ]
  },
  {
   "cell_type": "markdown",
   "id": "6a425498",
   "metadata": {},
   "source": [
    "*I am interested in data science because I enjoyed solving problem.* \n",
    "*1. My first role after my BSc degree was Data Entry, this role made me realize the advantage of data in real life*\n",
    "*2. My favourite courses during my undergraduate are Mathemathics and statistics and I found it helpful when making decision and i want to explore more of it.*"
   ]
  },
  {
   "cell_type": "markdown",
   "id": "a854564a",
   "metadata": {},
   "source": [
    "### The code below is called a function which sum up 3 numbers together. Sum is the name of the function and anytime we called it, it will sum up the 3 number inputted in the parenthesis"
   ]
  },
  {
   "cell_type": "code",
   "execution_count": 1,
   "id": "a0a2fd3a",
   "metadata": {},
   "outputs": [
    {
     "data": {
      "text/plain": [
       "12"
      ]
     },
     "execution_count": 1,
     "metadata": {},
     "output_type": "execute_result"
    }
   ],
   "source": [
    "def sum(a, b, c):\n",
    "    abc = a+b+c\n",
    "    return abc\n",
    "\n",
    "A = sum(3, 4, 5)\n",
    "A"
   ]
  },
  {
   "cell_type": "markdown",
   "id": "36c867e6",
   "metadata": {},
   "source": [
    "   **STUDENT TABLE**\n",
    "\n",
    "| first_Name | last_Name | class |\n",
    "| ---        | ---       | --- |\n",
    "| Tolulope   | Adetola   | Master's student |\n",
    "| Gbenga     | Ebenezer  | Undergraduate    |"
   ]
  },
  {
   "cell_type": "markdown",
   "id": "9ed06c55",
   "metadata": {},
   "source": [
    "**Google website**\n",
    "\n",
    "[google_website](https://www.google.com/)\n"
   ]
  },
  {
   "cell_type": "markdown",
   "id": "2edcbc8e",
   "metadata": {},
   "source": [
    "**Bulleted items**\n",
    "-  Rice\n",
    "-  Bean\n",
    "-  Yam"
   ]
  }
 ],
 "metadata": {
  "kernelspec": {
   "display_name": "Python 3",
   "language": "python",
   "name": "python3"
  },
  "language_info": {
   "codemirror_mode": {
    "name": "ipython",
    "version": 3
   },
   "file_extension": ".py",
   "mimetype": "text/x-python",
   "name": "python",
   "nbconvert_exporter": "python",
   "pygments_lexer": "ipython3",
   "version": "3.8.8"
  }
 },
 "nbformat": 4,
 "nbformat_minor": 5
}
